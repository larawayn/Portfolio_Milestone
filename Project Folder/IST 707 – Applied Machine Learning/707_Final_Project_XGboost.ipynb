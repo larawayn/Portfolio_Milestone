{
 "cells": [
  {
   "cell_type": "code",
   "execution_count": 1,
   "metadata": {},
   "outputs": [],
   "source": [
    "# xgboost according to kaggle is how you solve fashion mnist\n",
    "# https://iryndin.dev/post/xgboost_fashion_mnist/\n",
    "# https://github.com/anktplwl91/fashion_mnist/blob/master/fashion_xgboost.ipynb\n",
    "# https://www.kaggle.com/subhayan2018/exploring-xgboost-with-fashion-mnist\n",
    "import pandas as pd\n",
    "import sklearn\n",
    "from sklearn.neighbors import KNeighborsClassifier\n",
    "from sklearn.datasets import fetch_openml\n",
    "from sklearn.utils import check_random_state\n",
    "from sklearn.model_selection import train_test_split"
   ]
  },
  {
   "cell_type": "code",
   "execution_count": 2,
   "metadata": {},
   "outputs": [],
   "source": [
    "import pandas as pd\n",
    "import numpy as np\n",
    "import matplotlib.pyplot as plt\n",
    "import seaborn as sns\n",
    "sns.set()\n",
    "import time\n",
    "%matplotlib inline"
   ]
  },
  {
   "cell_type": "code",
   "execution_count": 3,
   "metadata": {},
   "outputs": [],
   "source": [
    "# https://github.com/zalandoresearch/fashion-mnist/blob/master/utils/mnist_reader.py\n",
    "import mnist_reader\n",
    "x_train, y_train = mnist_reader.load_mnist('fashion', kind='train')\n",
    "x_test, y_test = mnist_reader.load_mnist('fashion', kind='t10k')"
   ]
  },
  {
   "cell_type": "code",
   "execution_count": 4,
   "metadata": {},
   "outputs": [
    {
     "name": "stdout",
     "output_type": "stream",
     "text": [
      "(60000, 784) <class 'numpy.ndarray'>\n",
      "(60000,) <class 'numpy.ndarray'>\n",
      "(10000, 784) <class 'numpy.ndarray'>\n",
      "(10000,) <class 'numpy.ndarray'>\n"
     ]
    }
   ],
   "source": [
    "print(x_train.shape, type(x_train))\n",
    "print(y_train.shape, type(y_train))\n",
    "print(x_test.shape, type(x_train))\n",
    "print(y_test.shape, type(y_train))"
   ]
  },
  {
   "cell_type": "code",
   "execution_count": 5,
   "metadata": {},
   "outputs": [
    {
     "data": {
      "image/png": "[encoded data removed]",
      "image/svg+xml": "<?xml version=\"1.0\" encoding=\"utf-8\" standalone=\"no\"?>\r\n<!DOCTYPE svg PUBLIC \"-//W3C//DTD SVG 1.1//EN\"\r\n  \"http://www.w3.org/Graphics/SVG/1.1/DTD/svg11.dtd\">\r\n<!-- Created with matplotlib (https://matplotlib.org/) -->\r\n<svg height=\"251.453783pt\" version=\"1.1\" viewBox=\"0 0 253.574062 251.453783\" width=\"253.574062pt\" xmlns=\"http://www.w3.org/2000/svg\" xmlns:xlink=\"http://www.w3.org/1999/xlink\">\r\n <metadata>\r\n  <rdf:RDF xmlns:cc=\"http://creativecommons.org/ns#\" xmlns:dc=\"http://purl.org/dc/elements/1.1/\" xmlns:rdf=\"http://www.w3.org/1999/02/22-rdf-syntax-ns#\">\r\n   <cc:Work>\r\n    <dc:type rdf:resource=\"http://purl.org/dc/dcmitype/StillImage\"/>\r\n    <dc:date>2021-06-05T10:34:59.676653</dc:date>\r\n    <dc:format>image/svg+xml</dc:format>\r\n    <dc:creator>\r\n     <cc:Agent>\r\n      <dc:title>Matplotlib v3.3.2, https://matplotlib.org/</dc:title>\r\n     </cc:Agent>\r\n    </dc:creator>\r\n   </cc:Work>\r\n  </rdf:RDF>\r\n </metadata>\r\n <defs>\r\n  <style type=\"text/css\">*{stroke-linecap:butt;stroke-linejoin:round;}</style>\r\n </defs>\r\n <g id=\"figure_1\">\r\n  <g id=\"patch_1\">\r\n   <path d=\"M 0 251.453783 \r\nL 253.574062 251.453783 \r\nL 253.574062 0 \r\nL 0 0 \r\nz\r\n\" style=\"fill:none;\"/>\r\n  </g>\r\n  <g id=\"axes_1\">\r\n   <g id=\"patch_2\">\r\n    <path d=\"M 28.934063 224.69394 \r\nL 246.374063 224.69394 \r\nL 246.374063 7.25394 \r\nL 28.934063 7.25394 \r\nz\r\n\" style=\"fill:#eaeaf2;\"/>\r\n   </g>\r\n   <g clip-path=\"url(#pf6d7dbe117)\">\r\n    <image height=\"218\" id=\"image53c0bd596f\" transform=\"scale(1 -1)translate(0 -218)\" width=\"218\" x=\"28.934063\" xlink:href=\"data:image/png;base64,\r\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\" y=\"-6.69394\"/>\r\n   </g>\r\n   <g id=\"matplotlib.axis_1\">\r\n    <g id=\"xtick_1\">\r\n     <g id=\"line2d_1\">\r\n      <path clip-path=\"url(#pf6d7dbe117)\" d=\"M 32.81692 224.69394 \r\nL 32.81692 7.25394 \r\n\" style=\"fill:none;stroke:#ffffff;stroke-linecap:round;\"/>\r\n     </g>\r\n     <g id=\"text_1\">\r\n      <!-- 0 -->\r\n      <g style=\"fill:#262626;\" transform=\"translate(29.758404 242.067533)scale(0.11 -0.11)\">\r\n       <defs>\r\n        <path d=\"M 4.15625 35.296875 \r\nQ 4.15625 48 6.765625 55.734375 \r\nQ 9.375 63.484375 14.515625 67.671875 \r\nQ 19.671875 71.875 27.484375 71.875 \r\nQ 33.25 71.875 37.59375 69.546875 \r\nQ 41.9375 67.234375 44.765625 62.859375 \r\nQ 47.609375 58.5 49.21875 52.21875 \r\nQ 50.828125 45.953125 50.828125 35.296875 \r\nQ 50.828125 22.703125 48.234375 14.96875 \r\nQ 45.65625 7.234375 40.5 3 \r\nQ 35.359375 -1.21875 27.484375 -1.21875 \r\nQ 17.140625 -1.21875 11.234375 6.203125 \r\nQ 4.15625 15.140625 4.15625 35.296875 \r\nz\r\nM 13.1875 35.296875 \r\nQ 13.1875 17.671875 17.3125 11.828125 \r\nQ 21.4375 6 27.484375 6 \r\nQ 33.546875 6 37.671875 11.859375 \r\nQ 41.796875 17.71875 41.796875 35.296875 \r\nQ 41.796875 52.984375 37.671875 58.78125 \r\nQ 33.546875 64.59375 27.390625 64.59375 \r\nQ 21.34375 64.59375 17.71875 59.46875 \r\nQ 13.1875 52.9375 13.1875 35.296875 \r\nz\r\n\" id=\"ArialMT-48\"/>\r\n       </defs>\r\n       <use xlink:href=\"#ArialMT-48\"/>\r\n      </g>\r\n     </g>\r\n    </g>\r\n    <g id=\"xtick_2\">\r\n     <g id=\"line2d_2\">\r\n      <path clip-path=\"url(#pf6d7dbe117)\" d=\"M 71.645491 224.69394 \r\nL 71.645491 7.25394 \r\n\" style=\"fill:none;stroke:#ffffff;stroke-linecap:round;\"/>\r\n     </g>\r\n     <g id=\"text_2\">\r\n      <!-- 5 -->\r\n      <g style=\"fill:#262626;\" transform=\"translate(68.586975 242.067533)scale(0.11 -0.11)\">\r\n       <defs>\r\n        <path d=\"M 4.15625 18.75 \r\nL 13.375 19.53125 \r\nQ 14.40625 12.796875 18.140625 9.390625 \r\nQ 21.875 6 27.15625 6 \r\nQ 33.5 6 37.890625 10.78125 \r\nQ 42.28125 15.578125 42.28125 23.484375 \r\nQ 42.28125 31 38.0625 35.34375 \r\nQ 33.84375 39.703125 27 39.703125 \r\nQ 22.75 39.703125 19.328125 37.765625 \r\nQ 15.921875 35.84375 13.96875 32.765625 \r\nL 5.71875 33.84375 \r\nL 12.640625 70.609375 \r\nL 48.25 70.609375 \r\nL 48.25 62.203125 \r\nL 19.671875 62.203125 \r\nL 15.828125 42.96875 \r\nQ 22.265625 47.46875 29.34375 47.46875 \r\nQ 38.71875 47.46875 45.15625 40.96875 \r\nQ 51.609375 34.46875 51.609375 24.265625 \r\nQ 51.609375 14.546875 45.953125 7.46875 \r\nQ 39.0625 -1.21875 27.15625 -1.21875 \r\nQ 17.390625 -1.21875 11.203125 4.25 \r\nQ 5.03125 9.71875 4.15625 18.75 \r\nz\r\n\" id=\"ArialMT-53\"/>\r\n       </defs>\r\n       <use xlink:href=\"#ArialMT-53\"/>\r\n      </g>\r\n     </g>\r\n    </g>\r\n    <g id=\"xtick_3\">\r\n     <g id=\"line2d_3\">\r\n      <path clip-path=\"url(#pf6d7dbe117)\" d=\"M 110.474063 224.69394 \r\nL 110.474063 7.25394 \r\n\" style=\"fill:none;stroke:#ffffff;stroke-linecap:round;\"/>\r\n     </g>\r\n     <g id=\"text_3\">\r\n      <!-- 10 -->\r\n      <g style=\"fill:#262626;\" transform=\"translate(104.357031 242.067533)scale(0.11 -0.11)\">\r\n       <defs>\r\n        <path d=\"M 37.25 0 \r\nL 28.46875 0 \r\nL 28.46875 56 \r\nQ 25.296875 52.984375 20.140625 49.953125 \r\nQ 14.984375 46.921875 10.890625 45.40625 \r\nL 10.890625 53.90625 \r\nQ 18.265625 57.375 23.78125 62.296875 \r\nQ 29.296875 67.234375 31.59375 71.875 \r\nL 37.25 71.875 \r\nz\r\n\" id=\"ArialMT-49\"/>\r\n       </defs>\r\n       <use xlink:href=\"#ArialMT-49\"/>\r\n       <use x=\"55.615234\" xlink:href=\"#ArialMT-48\"/>\r\n      </g>\r\n     </g>\r\n    </g>\r\n    <g id=\"xtick_4\">\r\n     <g id=\"line2d_4\">\r\n      <path clip-path=\"url(#pf6d7dbe117)\" d=\"M 149.302634 224.69394 \r\nL 149.302634 7.25394 \r\n\" style=\"fill:none;stroke:#ffffff;stroke-linecap:round;\"/>\r\n     </g>\r\n     <g id=\"text_4\">\r\n      <!-- 15 -->\r\n      <g style=\"fill:#262626;\" transform=\"translate(143.185603 242.067533)scale(0.11 -0.11)\">\r\n       <use xlink:href=\"#ArialMT-49\"/>\r\n       <use x=\"55.615234\" xlink:href=\"#ArialMT-53\"/>\r\n      </g>\r\n     </g>\r\n    </g>\r\n    <g id=\"xtick_5\">\r\n     <g id=\"line2d_5\">\r\n      <path clip-path=\"url(#pf6d7dbe117)\" d=\"M 188.131205 224.69394 \r\nL 188.131205 7.25394 \r\n\" style=\"fill:none;stroke:#ffffff;stroke-linecap:round;\"/>\r\n     </g>\r\n     <g id=\"text_5\">\r\n      <!-- 20 -->\r\n      <g style=\"fill:#262626;\" transform=\"translate(182.014174 242.067533)scale(0.11 -0.11)\">\r\n       <defs>\r\n        <path d=\"M 50.34375 8.453125 \r\nL 50.34375 0 \r\nL 3.03125 0 \r\nQ 2.9375 3.171875 4.046875 6.109375 \r\nQ 5.859375 10.9375 9.828125 15.625 \r\nQ 13.8125 20.3125 21.34375 26.46875 \r\nQ 33.015625 36.03125 37.109375 41.625 \r\nQ 41.21875 47.21875 41.21875 52.203125 \r\nQ 41.21875 57.421875 37.46875 61 \r\nQ 33.734375 64.59375 27.734375 64.59375 \r\nQ 21.390625 64.59375 17.578125 60.78125 \r\nQ 13.765625 56.984375 13.71875 50.25 \r\nL 4.6875 51.171875 \r\nQ 5.609375 61.28125 11.65625 66.578125 \r\nQ 17.71875 71.875 27.9375 71.875 \r\nQ 38.234375 71.875 44.234375 66.15625 \r\nQ 50.25 60.453125 50.25 52 \r\nQ 50.25 47.703125 48.484375 43.546875 \r\nQ 46.734375 39.40625 42.65625 34.8125 \r\nQ 38.578125 30.21875 29.109375 22.21875 \r\nQ 21.1875 15.578125 18.9375 13.203125 \r\nQ 16.703125 10.84375 15.234375 8.453125 \r\nz\r\n\" id=\"ArialMT-50\"/>\r\n       </defs>\r\n       <use xlink:href=\"#ArialMT-50\"/>\r\n       <use x=\"55.615234\" xlink:href=\"#ArialMT-48\"/>\r\n      </g>\r\n     </g>\r\n    </g>\r\n    <g id=\"xtick_6\">\r\n     <g id=\"line2d_6\">\r\n      <path clip-path=\"url(#pf6d7dbe117)\" d=\"M 226.959777 224.69394 \r\nL 226.959777 7.25394 \r\n\" style=\"fill:none;stroke:#ffffff;stroke-linecap:round;\"/>\r\n     </g>\r\n     <g id=\"text_6\">\r\n      <!-- 25 -->\r\n      <g style=\"fill:#262626;\" transform=\"translate(220.842746 242.067533)scale(0.11 -0.11)\">\r\n       <use xlink:href=\"#ArialMT-50\"/>\r\n       <use x=\"55.615234\" xlink:href=\"#ArialMT-53\"/>\r\n      </g>\r\n     </g>\r\n    </g>\r\n   </g>\r\n   <g id=\"matplotlib.axis_2\">\r\n    <g id=\"ytick_1\">\r\n     <g id=\"line2d_7\">\r\n      <path clip-path=\"url(#pf6d7dbe117)\" d=\"M 28.934063 11.136797 \r\nL 246.374063 11.136797 \r\n\" style=\"fill:none;stroke:#ffffff;stroke-linecap:round;\"/>\r\n     </g>\r\n     <g id=\"text_7\">\r\n      <!-- 0 -->\r\n      <g style=\"fill:#262626;\" transform=\"translate(13.317031 15.073594)scale(0.11 -0.11)\">\r\n       <use xlink:href=\"#ArialMT-48\"/>\r\n      </g>\r\n     </g>\r\n    </g>\r\n    <g id=\"ytick_2\">\r\n     <g id=\"line2d_8\">\r\n      <path clip-path=\"url(#pf6d7dbe117)\" d=\"M 28.934063 49.965368 \r\nL 246.374063 49.965368 \r\n\" style=\"fill:none;stroke:#ffffff;stroke-linecap:round;\"/>\r\n     </g>\r\n     <g id=\"text_8\">\r\n      <!-- 5 -->\r\n      <g style=\"fill:#262626;\" transform=\"translate(13.317031 53.902165)scale(0.11 -0.11)\">\r\n       <use xlink:href=\"#ArialMT-53\"/>\r\n      </g>\r\n     </g>\r\n    </g>\r\n    <g id=\"ytick_3\">\r\n     <g id=\"line2d_9\">\r\n      <path clip-path=\"url(#pf6d7dbe117)\" d=\"M 28.934063 88.79394 \r\nL 246.374063 88.79394 \r\n\" style=\"fill:none;stroke:#ffffff;stroke-linecap:round;\"/>\r\n     </g>\r\n     <g id=\"text_9\">\r\n      <!-- 10 -->\r\n      <g style=\"fill:#262626;\" transform=\"translate(7.2 92.730737)scale(0.11 -0.11)\">\r\n       <use xlink:href=\"#ArialMT-49\"/>\r\n       <use x=\"55.615234\" xlink:href=\"#ArialMT-48\"/>\r\n      </g>\r\n     </g>\r\n    </g>\r\n    <g id=\"ytick_4\">\r\n     <g id=\"line2d_10\">\r\n      <path clip-path=\"url(#pf6d7dbe117)\" d=\"M 28.934063 127.622511 \r\nL 246.374063 127.622511 \r\n\" style=\"fill:none;stroke:#ffffff;stroke-linecap:round;\"/>\r\n     </g>\r\n     <g id=\"text_10\">\r\n      <!-- 15 -->\r\n      <g style=\"fill:#262626;\" transform=\"translate(7.2 131.559308)scale(0.11 -0.11)\">\r\n       <use xlink:href=\"#ArialMT-49\"/>\r\n       <use x=\"55.615234\" xlink:href=\"#ArialMT-53\"/>\r\n      </g>\r\n     </g>\r\n    </g>\r\n    <g id=\"ytick_5\">\r\n     <g id=\"line2d_11\">\r\n      <path clip-path=\"url(#pf6d7dbe117)\" d=\"M 28.934063 166.451083 \r\nL 246.374063 166.451083 \r\n\" style=\"fill:none;stroke:#ffffff;stroke-linecap:round;\"/>\r\n     </g>\r\n     <g id=\"text_11\">\r\n      <!-- 20 -->\r\n      <g style=\"fill:#262626;\" transform=\"translate(7.2 170.387879)scale(0.11 -0.11)\">\r\n       <use xlink:href=\"#ArialMT-50\"/>\r\n       <use x=\"55.615234\" xlink:href=\"#ArialMT-48\"/>\r\n      </g>\r\n     </g>\r\n    </g>\r\n    <g id=\"ytick_6\">\r\n     <g id=\"line2d_12\">\r\n      <path clip-path=\"url(#pf6d7dbe117)\" d=\"M 28.934063 205.279654 \r\nL 246.374063 205.279654 \r\n\" style=\"fill:none;stroke:#ffffff;stroke-linecap:round;\"/>\r\n     </g>\r\n     <g id=\"text_12\">\r\n      <!-- 25 -->\r\n      <g style=\"fill:#262626;\" transform=\"translate(7.2 209.216451)scale(0.11 -0.11)\">\r\n       <use xlink:href=\"#ArialMT-50\"/>\r\n       <use x=\"55.615234\" xlink:href=\"#ArialMT-53\"/>\r\n      </g>\r\n     </g>\r\n    </g>\r\n   </g>\r\n   <g id=\"patch_3\">\r\n    <path d=\"M 28.934063 224.69394 \r\nL 28.934063 7.25394 \r\n\" style=\"fill:none;stroke:#ffffff;stroke-linecap:square;stroke-linejoin:miter;stroke-width:1.25;\"/>\r\n   </g>\r\n   <g id=\"patch_4\">\r\n    <path d=\"M 246.374063 224.69394 \r\nL 246.374063 7.25394 \r\n\" style=\"fill:none;stroke:#ffffff;stroke-linecap:square;stroke-linejoin:miter;stroke-width:1.25;\"/>\r\n   </g>\r\n   <g id=\"patch_5\">\r\n    <path d=\"M 28.934063 224.69394 \r\nL 246.374063 224.69394 \r\n\" style=\"fill:none;stroke:#ffffff;stroke-linecap:square;stroke-linejoin:miter;stroke-width:1.25;\"/>\r\n   </g>\r\n   <g id=\"patch_6\">\r\n    <path d=\"M 28.934063 7.25394 \r\nL 246.374063 7.25394 \r\n\" style=\"fill:none;stroke:#ffffff;stroke-linecap:square;stroke-linejoin:miter;stroke-width:1.25;\"/>\r\n   </g>\r\n  </g>\r\n </g>\r\n <defs>\r\n  <clipPath id=\"pf6d7dbe117\">\r\n   <rect height=\"217.44\" width=\"217.44\" x=\"28.934063\" y=\"7.25394\"/>\r\n  </clipPath>\r\n </defs>\r\n</svg>\r\n",
      "text/plain": [
       "<Figure size 432x288 with 1 Axes>"
      ]
     },
     "metadata": {
      "needs_background": "light"
     },
     "output_type": "display_data"
    }
   ],
   "source": [
    "plt.imshow(x_train[1].reshape((28,28)))\n",
    "plt.show()"
   ]
  },
  {
   "cell_type": "code",
   "execution_count": 6,
   "metadata": {},
   "outputs": [],
   "source": [
    "# new smaller more managable sample set\n",
    "x_train = x_train/255.0\n",
    "x_test = x_test/255.0"
   ]
  },
  {
   "cell_type": "code",
   "execution_count": 27,
   "metadata": {},
   "outputs": [
    {
     "name": "stdout",
     "output_type": "stream",
     "text": [
      "Training time: 147.9576280117035s\n"
     ]
    }
   ],
   "source": [
    "# log regression on new sample set\n",
    "from sklearn.linear_model import LogisticRegression\n",
    "start = time.time()\n",
    "logReg = LogisticRegression(max_iter=2000)\n",
    "logReg.fit(x_train,y_train)\n",
    "stop = time.time()\n",
    "print(f\"Training time: {stop - start}s\")"
   ]
  },
  {
   "cell_type": "code",
   "execution_count": 28,
   "metadata": {},
   "outputs": [],
   "source": [
    "prediction_test  = logReg.predict(x_test)\n",
    "prediction_train = logReg.predict(x_train)"
   ]
  },
  {
   "cell_type": "code",
   "execution_count": 29,
   "metadata": {},
   "outputs": [],
   "source": [
    "from sklearn.metrics import accuracy_score, confusion_matrix, f1_score, precision_score, recall_score\n",
    "from sklearn.metrics import classification_report"
   ]
  },
  {
   "cell_type": "code",
   "execution_count": 30,
   "metadata": {},
   "outputs": [
    {
     "name": "stdout",
     "output_type": "stream",
     "text": [
      "0.8810333333333333\n"
     ]
    }
   ],
   "source": [
    "print(accuracy_score(y_train, prediction_train))"
   ]
  },
  {
   "cell_type": "code",
   "execution_count": 31,
   "metadata": {},
   "outputs": [
    {
     "name": "stdout",
     "output_type": "stream",
     "text": [
      "0.8441\n"
     ]
    }
   ],
   "source": [
    "print(accuracy_score(y_test, prediction_test))"
   ]
  },
  {
   "cell_type": "code",
   "execution_count": 12,
   "metadata": {},
   "outputs": [],
   "source": [
    "import xgboost as xgb"
   ]
  },
  {
   "cell_type": "code",
   "execution_count": 21,
   "metadata": {},
   "outputs": [
    {
     "name": "stdout",
     "output_type": "stream",
     "text": [
      "[14:30:07] WARNING: C:/Users/Administrator/workspace/xgboost-win64_release_1.4.0/src/learner.cc:1095: Starting in XGBoost 1.3.0, the default evaluation metric used with the objective 'multi:softprob' was changed from 'merror' to 'mlogloss'. Explicitly set eval_metric if you'd like to restore the old behavior.\n",
      "<bound method XGBModel.get_params of XGBClassifier(base_score=0.5, booster='gbtree', colsample_bylevel=1,\n",
      "              colsample_bynode=1, colsample_bytree=1, gamma=0, gpu_id=-1,\n",
      "              importance_type='gain', interaction_constraints='',\n",
      "              learning_rate=0.300000012, max_delta_step=0, max_depth=6,\n",
      "              min_child_weight=1, missing=nan, monotone_constraints='()',\n",
      "              n_estimators=300, n_jobs=-1, num_parallel_tree=1,\n",
      "              objective='multi:softprob', random_state=0, reg_alpha=0,\n",
      "              reg_lambda=1, scale_pos_weight=None, seed=0, subsample=1,\n",
      "              tree_method='exact', validate_parameters=1, verbosity=None)>\n",
      "Training time: 594.5211815834045s\n"
     ]
    }
   ],
   "source": [
    "from xgboost import XGBClassifier\n",
    "start = time.time()\n",
    "xgb_clf = XGBClassifier(n_estimators=300, n_jobs=-1, seed=0)\n",
    "xgb_clf.fit(x_train,y_train)\n",
    "stop = time.time()\n",
    "print(xgb_clf.get_params)\n",
    "print(f\"Training time: {stop - start}s\")"
   ]
  },
  {
   "cell_type": "code",
   "execution_count": 22,
   "metadata": {},
   "outputs": [
    {
     "name": "stdout",
     "output_type": "stream",
     "text": [
      "0.9039\n"
     ]
    }
   ],
   "source": [
    "y_pred = xgb_clf.predict(x_test)\n",
    "print(accuracy_score(y_test, y_pred))"
   ]
  },
  {
   "cell_type": "code",
   "execution_count": 15,
   "metadata": {},
   "outputs": [
    {
     "name": "stdout",
     "output_type": "stream",
     "text": [
      "[10:48:36] WARNING: C:/Users/Administrator/workspace/xgboost-win64_release_1.4.0/src/learner.cc:1095: Starting in XGBoost 1.3.0, the default evaluation metric used with the objective 'multi:softprob' was changed from 'merror' to 'mlogloss'. Explicitly set eval_metric if you'd like to restore the old behavior.\n",
      "<bound method XGBModel.get_params of XGBClassifier(base_score=0.5, booster='gbtree', colsample_bylevel=1,\n",
      "              colsample_bynode=1, colsample_bytree=1, gamma=0, gpu_id=-1,\n",
      "              importance_type='gain', interaction_constraints='',\n",
      "              learning_rate=0.5, max_delta_step=0, max_depth=6,\n",
      "              min_child_weight=1, missing=nan, monotone_constraints='()',\n",
      "              n_estimators=500, n_jobs=-1, num_parallel_tree=1,\n",
      "              objective='multi:softprob', random_state=0, reg_alpha=0,\n",
      "              reg_lambda=1, scale_pos_weight=None, seed=0, subsample=1,\n",
      "              tree_method='exact', validate_parameters=1, verbosity=None)>\n",
      "Training time: 903.4990739822388s\n"
     ]
    }
   ],
   "source": [
    "start = time.time()\n",
    "xgb_clf = XGBClassifier(n_estimators=500, n_jobs=-1, learning_rate=0.5, seed=0)\n",
    "xgb_clf.fit(x_train,y_train)\n",
    "stop = time.time()\n",
    "print(xgb_clf.get_params)\n",
    "print(f\"Training time: {stop - start}s\")"
   ]
  },
  {
   "cell_type": "code",
   "execution_count": 16,
   "metadata": {},
   "outputs": [
    {
     "name": "stdout",
     "output_type": "stream",
     "text": [
      "0.9053\n"
     ]
    }
   ],
   "source": [
    "y_pred = xgb_clf.predict(x_test)\n",
    "print(accuracy_score(y_test, y_pred))"
   ]
  },
  {
   "cell_type": "code",
   "execution_count": 17,
   "metadata": {},
   "outputs": [
    {
     "name": "stdout",
     "output_type": "stream",
     "text": [
      "[11:03:40] WARNING: C:/Users/Administrator/workspace/xgboost-win64_release_1.4.0/src/learner.cc:1095: Starting in XGBoost 1.3.0, the default evaluation metric used with the objective 'multi:softprob' was changed from 'merror' to 'mlogloss'. Explicitly set eval_metric if you'd like to restore the old behavior.\n",
      "<bound method XGBModel.get_params of XGBClassifier(base_score=0.5, booster='gbtree', colsample_bylevel=1,\n",
      "              colsample_bynode=1, colsample_bytree=1, gamma=2, gpu_id=-1,\n",
      "              importance_type='gain', interaction_constraints='',\n",
      "              learning_rate=0.5, max_delta_step=0, max_depth=6,\n",
      "              min_child_weight=1, missing=nan, monotone_constraints='()',\n",
      "              n_estimators=500, n_jobs=-1, num_parallel_tree=1,\n",
      "              objective='multi:softprob', random_state=0, reg_alpha=0,\n",
      "              reg_lambda=1, scale_pos_weight=None, seed=0, subsample=1,\n",
      "              tree_method='exact', validate_parameters=1, verbosity=None)>\n",
      "Training time: 1098.3623712062836s\n",
      "test accuracy\n",
      "0.891\n"
     ]
    }
   ],
   "source": [
    "start = time.time()\n",
    "xgb_clf = XGBClassifier(n_estimators=500, n_jobs=-1, learning_rate=0.5, gamma=2, seed=0)\n",
    "xgb_clf.fit(x_train,y_train)\n",
    "stop = time.time()\n",
    "print(xgb_clf.get_params)\n",
    "print(f\"Training time: {stop - start}s\")\n",
    "y_pred = xgb_clf.predict(x_test)\n",
    "print(\"test accuracy\")\n",
    "print(accuracy_score(y_test, y_pred))"
   ]
  },
  {
   "cell_type": "code",
   "execution_count": 18,
   "metadata": {},
   "outputs": [
    {
     "name": "stdout",
     "output_type": "stream",
     "text": [
      "[11:21:56] WARNING: C:/Users/Administrator/workspace/xgboost-win64_release_1.4.0/src/learner.cc:573: \n",
      "Parameters: { \"max_deth\" } might not be used.\n",
      "\n",
      "  This may not be accurate due to some parameters are only used in language bindings but\n",
      "  passed down to XGBoost core.  Or some parameters are not used but slip through this\n",
      "  verification. Please open an issue if you find above cases.\n",
      "\n",
      "\n",
      "[11:21:58] WARNING: C:/Users/Administrator/workspace/xgboost-win64_release_1.4.0/src/learner.cc:1095: Starting in XGBoost 1.3.0, the default evaluation metric used with the objective 'multi:softprob' was changed from 'merror' to 'mlogloss'. Explicitly set eval_metric if you'd like to restore the old behavior.\n",
      "<bound method XGBModel.get_params of XGBClassifier(base_score=0.5, booster='gbtree', colsample_bylevel=1,\n",
      "              colsample_bynode=1, colsample_bytree=1, gamma=0, gpu_id=-1,\n",
      "              importance_type='gain', interaction_constraints='',\n",
      "              learning_rate=0.5, max_delta_step=0, max_depth=6, max_deth=5,\n",
      "              min_child_weight=1, missing=nan, monotone_constraints='()',\n",
      "              n_estimators=500, n_jobs=-1, num_parallel_tree=1,\n",
      "              objective='multi:softprob', random_state=0, reg_alpha=0,\n",
      "              reg_lambda=1, scale_pos_weight=None, seed=0, subsample=1,\n",
      "              tree_method='exact', validate_parameters=1, verbosity=None)>\n",
      "Training time: 864.883885383606s\n",
      "test accuracy\n",
      "0.9053\n"
     ]
    }
   ],
   "source": [
    "start = time.time()\n",
    "xgb_clf = XGBClassifier(n_estimators=500, n_jobs=-1, learning_rate=0.5, max_deth= 5, min_child_weight= 1, seed=0)\n",
    "xgb_clf.fit(x_train,y_train)\n",
    "stop = time.time()\n",
    "print(xgb_clf.get_params)\n",
    "print(f\"Training time: {stop - start}s\")\n",
    "y_pred = xgb_clf.predict(x_test)\n",
    "print(\"test accuracy\")\n",
    "print(accuracy_score(y_test, y_pred))"
   ]
  },
  {
   "cell_type": "code",
   "execution_count": 19,
   "metadata": {},
   "outputs": [
    {
     "name": "stdout",
     "output_type": "stream",
     "text": [
      "[11:36:21] WARNING: C:/Users/Administrator/workspace/xgboost-win64_release_1.4.0/src/learner.cc:573: \n",
      "Parameters: { \"max_deth\" } might not be used.\n",
      "\n",
      "  This may not be accurate due to some parameters are only used in language bindings but\n",
      "  passed down to XGBoost core.  Or some parameters are not used but slip through this\n",
      "  verification. Please open an issue if you find above cases.\n",
      "\n",
      "\n",
      "[0]\tvalidation_0-mlogloss:1.02365\n",
      "[1]\tvalidation_0-mlogloss:0.79206\n",
      "[2]\tvalidation_0-mlogloss:0.65773\n",
      "[3]\tvalidation_0-mlogloss:0.57368\n",
      "[4]\tvalidation_0-mlogloss:0.51334\n",
      "[5]\tvalidation_0-mlogloss:0.47138\n",
      "[6]\tvalidation_0-mlogloss:0.44282\n",
      "[7]\tvalidation_0-mlogloss:0.41981\n",
      "[8]\tvalidation_0-mlogloss:0.40298\n",
      "[9]\tvalidation_0-mlogloss:0.39098\n",
      "[10]\tvalidation_0-mlogloss:0.37932\n",
      "[11]\tvalidation_0-mlogloss:0.37105\n",
      "[12]\tvalidation_0-mlogloss:0.36462\n",
      "[13]\tvalidation_0-mlogloss:0.35842\n",
      "[14]\tvalidation_0-mlogloss:0.35319\n",
      "[15]\tvalidation_0-mlogloss:0.34864\n",
      "[16]\tvalidation_0-mlogloss:0.34593\n",
      "[17]\tvalidation_0-mlogloss:0.34225\n",
      "[18]\tvalidation_0-mlogloss:0.33998\n",
      "[19]\tvalidation_0-mlogloss:0.33681\n",
      "[20]\tvalidation_0-mlogloss:0.33468\n",
      "[21]\tvalidation_0-mlogloss:0.33217\n",
      "[22]\tvalidation_0-mlogloss:0.32969\n",
      "[23]\tvalidation_0-mlogloss:0.32843\n",
      "[24]\tvalidation_0-mlogloss:0.32596\n",
      "[25]\tvalidation_0-mlogloss:0.32537\n",
      "[26]\tvalidation_0-mlogloss:0.32398\n",
      "[27]\tvalidation_0-mlogloss:0.32278\n",
      "[28]\tvalidation_0-mlogloss:0.32185\n",
      "[29]\tvalidation_0-mlogloss:0.32042\n",
      "[30]\tvalidation_0-mlogloss:0.31948\n",
      "[31]\tvalidation_0-mlogloss:0.31827\n",
      "[32]\tvalidation_0-mlogloss:0.31750\n",
      "[33]\tvalidation_0-mlogloss:0.31589\n",
      "[34]\tvalidation_0-mlogloss:0.31493\n",
      "[35]\tvalidation_0-mlogloss:0.31427\n",
      "[36]\tvalidation_0-mlogloss:0.31354\n",
      "[37]\tvalidation_0-mlogloss:0.31217\n",
      "[38]\tvalidation_0-mlogloss:0.31193\n",
      "[39]\tvalidation_0-mlogloss:0.31070\n",
      "[40]\tvalidation_0-mlogloss:0.31065\n",
      "[41]\tvalidation_0-mlogloss:0.31073\n",
      "[42]\tvalidation_0-mlogloss:0.31041\n",
      "[43]\tvalidation_0-mlogloss:0.30976\n",
      "[44]\tvalidation_0-mlogloss:0.30933\n",
      "[45]\tvalidation_0-mlogloss:0.30863\n",
      "[46]\tvalidation_0-mlogloss:0.30855\n",
      "[47]\tvalidation_0-mlogloss:0.30784\n",
      "[48]\tvalidation_0-mlogloss:0.30741\n",
      "[49]\tvalidation_0-mlogloss:0.30734\n",
      "[50]\tvalidation_0-mlogloss:0.30747\n",
      "[51]\tvalidation_0-mlogloss:0.30727\n",
      "[52]\tvalidation_0-mlogloss:0.30714\n",
      "[53]\tvalidation_0-mlogloss:0.30762\n",
      "[54]\tvalidation_0-mlogloss:0.30773\n",
      "[55]\tvalidation_0-mlogloss:0.30763\n",
      "[56]\tvalidation_0-mlogloss:0.30769\n",
      "[57]\tvalidation_0-mlogloss:0.30795\n",
      "[58]\tvalidation_0-mlogloss:0.30821\n",
      "[59]\tvalidation_0-mlogloss:0.30787\n",
      "[60]\tvalidation_0-mlogloss:0.30881\n",
      "[61]\tvalidation_0-mlogloss:0.30944\n",
      "<bound method XGBModel.get_params of XGBClassifier(base_score=0.5, booster='gbtree', colsample_bylevel=1,\n",
      "              colsample_bynode=1, colsample_bytree=1, gamma=0, gpu_id=-1,\n",
      "              importance_type='gain', interaction_constraints='',\n",
      "              learning_rate=0.5, max_delta_step=0, max_depth=6, max_deth=5,\n",
      "              min_child_weight=1, missing=nan, monotone_constraints='()',\n",
      "              n_estimators=500, n_jobs=-1, num_parallel_tree=1,\n",
      "              objective='multi:softprob', random_state=0, reg_alpha=0,\n",
      "              reg_lambda=1, scale_pos_weight=None, seed=0, subsample=1,\n",
      "              tree_method='exact', validate_parameters=1, verbosity=None)>\n",
      "Training time: 134.84747076034546s\n",
      "test accuracy\n",
      "0.8887\n"
     ]
    }
   ],
   "source": [
    "start = time.time()\n",
    "xgb_clf = XGBClassifier(n_estimators=500, n_jobs=-1, learning_rate=0.5, max_deth= 5, min_child_weight= 1, seed=0)\n",
    "xgb_clf.fit(x_train,y_train,eval_metric='mlogloss', early_stopping_rounds = 10, eval_set = [(x_test, y_test)])\n",
    "stop = time.time()\n",
    "print(xgb_clf.get_params)\n",
    "print(f\"Training time: {stop - start}s\")\n",
    "y_pred = xgb_clf.predict(x_test)\n",
    "print(\"test accuracy\")\n",
    "print(accuracy_score(y_test, y_pred))"
   ]
  },
  {
   "cell_type": "code",
   "execution_count": 32,
   "metadata": {},
   "outputs": [
    {
     "name": "stderr",
     "output_type": "stream",
     "text": [
      "C:\\Users\\conwa\\anaconda3\\lib\\site-packages\\xgboost\\sklearn.py:1146: UserWarning: The use of label encoder in XGBClassifier is deprecated and will be removed in a future release. To remove this warning, do the following: 1) Pass option use_label_encoder=False when constructing XGBClassifier object; and 2) Encode your labels (y) as integers starting with 0, i.e. 0, 1, 2, ..., [num_class - 1].\n",
      "  warnings.warn(label_encoder_deprecation_msg, UserWarning)\n",
      "[20:22:24] WARNING: C:/Users/Administrator/workspace/xgboost-win64_release_1.4.0/src/learner.cc:573: \n",
      "Parameters: { \"max_deth\" } might not be used.\n",
      "\n",
      "  This may not be accurate due to some parameters are only used in language bindings but\n",
      "  passed down to XGBoost core.  Or some parameters are not used but slip through this\n",
      "  verification. Please open an issue if you find above cases.\n",
      "\n",
      "\n",
      "[20:22:27] WARNING: C:/Users/Administrator/workspace/xgboost-win64_release_1.4.0/src/learner.cc:1095: Starting in XGBoost 1.3.0, the default evaluation metric used with the objective 'multi:softprob' was changed from 'merror' to 'mlogloss'. Explicitly set eval_metric if you'd like to restore the old behavior.\n",
      "<bound method XGBModel.get_params of XGBClassifier(base_score=0.5, booster='gbtree', colsample_bylevel=1,\n",
      "              colsample_bynode=1, colsample_bytree=1, gamma=0, gpu_id=-1,\n",
      "              importance_type='gain', interaction_constraints='',\n",
      "              learning_rate=0.5, max_delta_step=0, max_depth=6, max_deth=5,\n",
      "              min_child_weight=1, missing=nan, monotone_constraints='()',\n",
      "              n_estimators=500, n_jobs=-1, num_parallel_tree=1,\n",
      "              objective='multi:softprob', random_state=0, reg_alpha=0,\n",
      "              reg_lambda=20, scale_pos_weight=None, seed=0, subsample=1,\n",
      "              tree_method='exact', validate_parameters=1, verbosity=None)>\n",
      "Training time: 1003.9195713996887s\n",
      "test accuracy\n",
      "0.9041\n"
     ]
    }
   ],
   "source": [
    "start = time.time()\n",
    "xgb_clf = XGBClassifier(n_estimators=500, n_jobs=-1, learning_rate=0.5, max_deth= 5, min_child_weight= 1, reg_lambda =20, seed=0)\n",
    "xgb_clf.fit(x_train,y_train)\n",
    "stop = time.time()\n",
    "print(xgb_clf.get_params)\n",
    "print(f\"Training time: {stop - start}s\")\n",
    "y_pred = xgb_clf.predict(x_test)\n",
    "print(\"test accuracy\")\n",
    "print(accuracy_score(y_test, y_pred))"
   ]
  },
  {
   "cell_type": "code",
   "execution_count": null,
   "metadata": {},
   "outputs": [],
   "source": []
  }
 ],
 "metadata": {
  "kernelspec": {
   "display_name": "Python 3.8.5 64-bit ('base': conda)",
   "name": "python385jvsc74a57bd047ff93630845832aa870c496f8afc95e13ee7dba6d6ab380b05e676515cddff0"
  },
  "language_info": {
   "codemirror_mode": {
    "name": "ipython",
    "version": 3
   },
   "file_extension": ".py",
   "mimetype": "text/x-python",
   "name": "python",
   "nbconvert_exporter": "python",
   "pygments_lexer": "ipython3",
   "version": "3.8.5"
  },
  "orig_nbformat": 2
 },
 "nbformat": 4,
 "nbformat_minor": 2
}
